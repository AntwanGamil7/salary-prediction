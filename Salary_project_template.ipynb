{
 "cells": [
  {
   "cell_type": "markdown",
   "id": "c5087fc8",
   "metadata": {},
   "source": [
    "# Salary Prediction (Linear Regression) - Guided Notebook\n",
    "\n",
    "**Goal:** Build a simple Linear Regression model to predict salary from years of experience. This notebook is designed to teach you step-by-step — you will *write* the code in the `YOUR TURN` cells and run them. If you get stuck, there are hints and ready-to-run examples commented below each `YOUR TURN` cell.\n",
    "\n",
    "---\n",
    "\n",
    "**How to use this notebook**\n",
    "- Open it in Jupyter Notebook / JupyterLab or Google Colab.\n",
    "- Follow the sections in order. Each section has a short explanation (markdown) and a `YOUR TURN` code cell where you should type and run code.\n",
    "- If you are stuck, expand the hint (commented code) and run it.\n",
    "\n"
   ]
  },
  {
   "cell_type": "markdown",
   "id": "fff9179d",
   "metadata": {},
   "source": [
    "## 1) Imports & setup\n",
    "\n",
    "In this section import the libraries we will use. Keep this cell simple.\n"
   ]
  },
  {
   "cell_type": "code",
   "execution_count": null,
   "id": "d28eec31",
   "metadata": {},
   "outputs": [],
   "source": [
    "# YOUR TURN: import the basic libraries (pandas, numpy, matplotlib, seaborn, sklearn parts)\n",
    "# Hint (uncomment if you need):\n",
    "# import pandas as pd\n",
    "# import numpy as np\n",
    "# import matplotlib.pyplot as plt\n",
    "# import seaborn as sns\n",
    "# from sklearn.model_selection import train_test_split\n",
    "# from sklearn.preprocessing import StandardScaler\n",
    "# from sklearn.linear_model import LinearRegression\n",
    "# from sklearn import metrics\n",
    "\n",
    "print('Write your imports above and run this cell.')"
   ]
  },
  {
   "cell_type": "markdown",
   "id": "76b87281",
   "metadata": {},
   "source": [
    "## 2) Load the dataset\n",
    "\n",
    "Place your CSV in the repository (e.g. `/data/Salary_dataset.csv`) or upload it to Colab and update the path. Load it with pandas and inspect the first rows.\n"
   ]
  },
  {
   "cell_type": "code",
   "execution_count": null,
   "id": "1bc9655b",
   "metadata": {},
   "outputs": [],
   "source": [
    "# YOUR TURN: set DATA_PATH to your CSV file and load it using pandas\n",
    "# Example hint (uncomment to run if stuck):\n",
    "# DATA_PATH = 'data/Salary_dataset.csv'  # change path if needed\n",
    "# df = pd.read_csv(DATA_PATH)\n",
    "# display(df.head())\n",
    "\n",
    "print('Load the CSV into a dataframe named df.')"
   ]
  },
  {
   "cell_type": "markdown",
   "id": "560c235b",
   "metadata": {},
   "source": [
    "## 3) Quick EDA (Exploratory Data Analysis)\n",
    "\n",
    "Check info(), describe(), missing values, and a simple scatter plot of YearsExperience vs Salary.\n"
   ]
  },
  {
   "cell_type": "code",
   "execution_count": null,
   "id": "a00e3850",
   "metadata": {},
   "outputs": [],
   "source": [
    "# YOUR TURN: run basic EDA on df\n",
    "# Hint:\n",
    "# print(df.info())\n",
    "# print(df.describe())\n",
    "# print(df.isna().sum())\n",
    "# df.plot.scatter(x='YearsExperience', y='Salary', figsize=(8,5))\n",
    "\n",
    "print('Do basic EDA: info, describe, isna, and scatter plot.')"
   ]
  },
  {
   "cell_type": "markdown",
   "id": "0e7892eb",
   "metadata": {},
   "source": [
    "## 4) Prepare features (X) and target (y)\n",
    "\n",
    "Drop or select the correct columns. Then do a train_test_split.\n"
   ]
  },
  {
   "cell_type": "code",
   "execution_count": null,
   "id": "2b7636a9",
   "metadata": {},
   "outputs": [],
   "source": [
    "# YOUR TURN: create X and y, then split to train/test\n",
    "# Hint:\n",
    "# X = df[['YearsExperience']]\n",
    "# y = df['Salary']\n",
    "# X_train, X_test, y_train, y_test = train_test_split(X, y, test_size=0.2, random_state=42)\n",
    "\n",
    "print('Prepare X, y and split into train/test.')"
   ]
  },
  {
   "cell_type": "markdown",
   "id": "f080e69c",
   "metadata": {},
   "source": [
    "## 5) Scaling (StandardScaler) - optional\n",
    "\n",
    "For this simple dataset scaling is optional, but it's good practice. Use fit on training only.\n"
   ]
  },
  {
   "cell_type": "code",
   "execution_count": null,
   "id": "a7b5a0fa",
   "metadata": {},
   "outputs": [],
   "source": [
    "# YOUR TURN: apply StandardScaler to X_train and X_test\n",
    "# Hint:\n",
    "# scaler = StandardScaler()\n",
    "# X_train_scaled = scaler.fit_transform(X_train)\n",
    "# X_test_scaled = scaler.transform(X_test)\n",
    "\n",
    "print('Apply scaler only on training data (fit) then transform test. If you skip scaling, use X_train / X_test directly for Linear Regression.')"
   ]
  },
  {
   "cell_type": "markdown",
   "id": "77b8af37",
   "metadata": {},
   "source": [
    "## 6) Train a Linear Regression model\n",
    "\n",
    "Train `LinearRegression()` on training data, then predict on test set.\n"
   ]
  },
  {
   "cell_type": "code",
   "execution_count": null,
   "id": "63ed6b34",
   "metadata": {},
   "outputs": [],
   "source": [
    "# YOUR TURN: train LinearRegression and predict\n",
    "# Hint:\n",
    "# model = LinearRegression()\n",
    "# model.fit(X_train_scaled, y_train)     # or model.fit(X_train, y_train) if not scaling\n",
    "# y_pred = model.predict(X_test_scaled)  # or model.predict(X_test)\n",
    "\n",
    "print('Train a LinearRegression model and create predictions y_pred.')"
   ]
  },
  {
   "cell_type": "markdown",
   "id": "38e1a85c",
   "metadata": {},
   "source": [
    "## 7) Evaluation\n",
    "\n",
    "Compute MAE, MSE, RMSE and R2. Then show a scatter plot of true vs predicted and the regression line.\n"
   ]
  },
  {
   "cell_type": "code",
   "execution_count": null,
   "id": "6f8db66a",
   "metadata": {},
   "outputs": [],
   "source": [
    "# YOUR TURN: evaluate the model\n",
    "# Hint:\n",
    "# from sklearn.metrics import mean_absolute_error, mean_squared_error, r2_score\n",
    "# mae = mean_absolute_error(y_test, y_pred)\n",
    "# mse = mean_squared_error(y_test, y_pred)\n",
    "# rmse = mse ** 0.5\n",
    "# r2 = r2_score(y_test, y_pred)\n",
    "# print(f'MAE: {mae:.2f}, RMSE: {rmse:.2f}, R2: {r2:.3f}')\n",
    "\n",
    "# Plot\n",
    "# plt.figure(figsize=(8,6))\n",
    "# plt.scatter(X_test, y_test, label='True')\n",
    "# plt.scatter(X_test, y_pred, label='Predicted')\n",
    "# plt.plot(X_test, y_pred, color='red', linewidth=2)\n",
    "# plt.legend()\n",
    "# plt.xlabel('YearsExperience')\n",
    "# plt.ylabel('Salary')\n",
    "# plt.title('True vs Predicted (Test Set)')\n",
    "\n",
    "print('Calculate MAE/MSE/RMSE/R2 and plot results.')"
   ]
  },
  {
   "cell_type": "markdown",
   "id": "783764dc",
   "metadata": {},
   "source": [
    "## 8) Save the model (optional)\n",
    "\n",
    "Save the trained model using `joblib` or `pickle` so you can load it later without re-training.\n"
   ]
  },
  {
   "cell_type": "code",
   "execution_count": null,
   "id": "66251526",
   "metadata": {},
   "outputs": [],
   "source": [
    "# YOUR TURN: save your model\n",
    "# Hint:\n",
    "# import joblib\n",
    "# joblib.dump(model, 'salary_model.joblib')\n",
    "\n",
    "print('Save the model to disk so you can reuse it.')"
   ]
  },
  {
   "cell_type": "markdown",
   "id": "7d7e1abc",
   "metadata": {},
   "source": [
    "## 9) Try other models (YOUR TURN)\n",
    "\n",
    "Try: DecisionTreeRegressor, RandomForestRegressor, SVR. Compare R2 and RMSE. Use cross-validation if you want.\n"
   ]
  },
  {
   "cell_type": "code",
   "execution_count": null,
   "id": "1b62321b",
   "metadata": {},
   "outputs": [],
   "source": [
    "# YOUR TURN: try at least one other regressor and compare metrics\n",
    "# Hint example:\n",
    "# from sklearn.ensemble import RandomForestRegressor\n",
    "# rf = RandomForestRegressor(n_estimators=100, random_state=42)\n",
    "# rf.fit(X_train, y_train)\n",
    "# y_pred_rf = rf.predict(X_test)\n",
    "# print('R2 RF:', r2_score(y_test, y_pred_rf))\n",
    "\n",
    "print('Try RandomForest or SVR and compare performance.')"
   ]
  },
  {
   "cell_type": "markdown",
   "id": "4af96eda",
   "metadata": {},
   "source": [
    "## 10) Conclusion & Next steps\n",
    "\n",
    "Write a short conclusion: what did you learn? What can improve? Suggestions:\n",
    "- Try feature engineering\n",
    "- Try polynomial regression\n",
    "- Add cross-validation and hyperparameter tuning\n",
    "\n",
    "---\n",
    "\n",
    "Good job — once you finish, push to GitHub and include this repository in your portfolio!"
   ]
  }
 ],
 "metadata": {},
 "nbformat": 4,
 "nbformat_minor": 5
}
